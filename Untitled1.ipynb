{
  "nbformat": 4,
  "nbformat_minor": 0,
  "metadata": {
    "colab": {
      "name": "Untitled1.ipynb",
      "provenance": [],
      "authorship_tag": "ABX9TyNJ+vXZbo3CZagRkYSjTmqg"
    },
    "kernelspec": {
      "name": "python3",
      "display_name": "Python 3"
    }
  },
  "cells": [
    {
      "cell_type": "code",
      "metadata": {
        "id": "rmliLLf6FeyI",
        "colab_type": "code",
        "colab": {}
      },
      "source": [
        "from googletrans import Translator"
      ],
      "execution_count": 12,
      "outputs": []
    },
    {
      "cell_type": "code",
      "metadata": {
        "id": "8Ao-EFMdGQFH",
        "colab_type": "code",
        "colab": {}
      },
      "source": [
        "sentence = str(input('say........'))\n",
        "translator = Translator()\n",
        "trans = translator.translate(sentence,src='en',dest='gu' )\n",
        "print(trans.text)"
      ],
      "execution_count": null,
      "outputs": []
    }
  ]
}